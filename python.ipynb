{
  "nbformat": 4,
  "nbformat_minor": 0,
  "metadata": {
    "colab": {
      "provenance": [],
      "authorship_tag": "ABX9TyNIkULCUTM7fc/V5653dB+X",
      "include_colab_link": true
    },
    "kernelspec": {
      "name": "python3",
      "display_name": "Python 3"
    },
    "language_info": {
      "name": "python"
    }
  },
  "cells": [
    {
      "cell_type": "markdown",
      "metadata": {
        "id": "view-in-github",
        "colab_type": "text"
      },
      "source": [
        "<a href=\"https://colab.research.google.com/github/flavia189/Python_Basic/blob/main/python.ipynb\" target=\"_parent\"><img src=\"https://colab.research.google.com/assets/colab-badge.svg\" alt=\"Open In Colab\"/></a>"
      ]
    },
    {
      "cell_type": "code",
      "execution_count": null,
      "metadata": {
        "id": "GtAA7LzfhoQg",
        "outputId": "ca8debef-699f-427c-e783-c5596c1fe352",
        "colab": {
          "base_uri": "https://localhost:8080/"
        }
      },
      "outputs": [
        {
          "output_type": "stream",
          "name": "stdout",
          "text": [
            "A soma dos pontos de Rodrigo são 72\n",
            "A soma dos pontos de Rodrigo são 24\n",
            "Total de livros lidos por Rodrigo são 3\n"
          ]
        }
      ],
      "source": [
        "ficcao=10\n",
        "nficcao=8\n",
        "infantil=6\n",
        "\n",
        "livros_lidos = 3\n",
        "\n",
        "pontos = (ficcao + nficcao + infantil)\n",
        "\n",
        "pontos_totais = (ficcao*3 + nficcao*3 + infantil*3)\n",
        "\n",
        "print(f\"A soma dos pontos de Rodrigo são {pontos_totais}\")\n",
        "\n",
        "print(f\"A soma dos pontos de Rodrigo são {pontos}\")\n",
        "\n",
        "print(f\"Total de livros lidos por Rodrigo são {livros_lidos}\")"
      ]
    },
    {
      "cell_type": "code",
      "source": [
        "print(\"Eu gosto de comer\")"
      ],
      "metadata": {
        "id": "fTzcmp-mkvqc",
        "outputId": "7fb2dbe8-2972-4604-c9c2-5aa409ecd2dc",
        "colab": {
          "base_uri": "https://localhost:8080/"
        }
      },
      "execution_count": 1,
      "outputs": [
        {
          "output_type": "stream",
          "name": "stdout",
          "text": [
            "Eu gosto de comer\n"
          ]
        }
      ]
    },
    {
      "cell_type": "code",
      "source": [
        "Contexto:\n",
        "Uma escola está promovendo uma campanha de incentivo à leitura, em que cada estudante recebe pontos ao concluir livros. Esses pontos podem ser trocados por diferentes premios da escola. As categorias de livros têm valores de pontos diferentes:\n",
        "Livro de ficção: 10 pontos\n",
        "Livro de não-ficção: 8 pontos\n",
        "Livro infantil: 6 pontos\n",
        "Rodrigo leu um livro de cada categoria. Agora ele quer saber quantos pontos acumulou com sua leitura.\n",
        "Nosso objetivo é criar um programa em Python que:\n",
        "Armazene a pontuação de cada categoria de livro em uma variável.\n",
        "Calcule o total de pontos acumulados por Rodrigo.\n",
        "Mostre na tela o total de pontos acumulados por Rodrigo."
      ],
      "metadata": {
        "id": "ey_zHsuolgOO"
      },
      "execution_count": null,
      "outputs": []
    },
    {
      "cell_type": "code",
      "source": [
        "print(\"a dinga só sabe comer\")\n",
        "\n",
        "dinga = \"duda\""
      ],
      "metadata": {
        "id": "GSH_gWaZnnV5",
        "outputId": "40bc74e0-3847-4986-ee18-d1d28cc99083",
        "colab": {
          "base_uri": "https://localhost:8080/"
        }
      },
      "execution_count": 2,
      "outputs": [
        {
          "output_type": "stream",
          "name": "stdout",
          "text": [
            "a dinga só sabe comer\n"
          ]
        }
      ]
    },
    {
      "cell_type": "code",
      "source": [
        "print(f (ano) Competição ')"
      ],
      "metadata": {
        "id": "_4SFhmSxpwct"
      },
      "execution_count": null,
      "outputs": []
    }
  ]
}