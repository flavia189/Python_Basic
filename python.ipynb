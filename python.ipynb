{
  "nbformat": 4,
  "nbformat_minor": 0,
  "metadata": {
    "colab": {
      "provenance": [],
      "authorship_tag": "ABX9TyP+Cqa1s4LJcHA1hgXAhUty",
      "include_colab_link": true
    },
    "kernelspec": {
      "name": "python3",
      "display_name": "Python 3"
    },
    "language_info": {
      "name": "python"
    }
  },
  "cells": [
    {
      "cell_type": "markdown",
      "metadata": {
        "id": "view-in-github",
        "colab_type": "text"
      },
      "source": [
        "<a href=\"https://colab.research.google.com/github/flavia189/Python_Basic/blob/main/python.ipynb\" target=\"_parent\"><img src=\"https://colab.research.google.com/assets/colab-badge.svg\" alt=\"Open In Colab\"/></a>"
      ]
    },
    {
      "cell_type": "code",
      "execution_count": 2,
      "metadata": {
        "id": "GtAA7LzfhoQg",
        "outputId": "ca8debef-699f-427c-e783-c5596c1fe352",
        "colab": {
          "base_uri": "https://localhost:8080/"
        }
      },
      "outputs": [
        {
          "output_type": "stream",
          "name": "stdout",
          "text": [
            "A soma dos pontos de Rodrigo são 72\n",
            "A soma dos pontos de Rodrigo são 24\n",
            "Total de livros lidos por Rodrigo são 3\n"
          ]
        }
      ],
      "source": [
        "ficcao=10\n",
        "nficcao=8\n",
        "infantil=6\n",
        "\n",
        "livros_lidos = 3\n",
        "\n",
        "pontos = (ficcao + nficcao + infantil)\n",
        "\n",
        "pontos_totais = (ficcao*3 + nficcao*3 + infantil*3)\n",
        "\n",
        "print(f\"A soma dos pontos de Rodrigo são {pontos_totais}\")\n",
        "\n",
        "print(f\"A soma dos pontos de Rodrigo são {pontos}\")\n",
        "\n",
        "print(f\"Total de livros lidos por Rodrigo são {livros_lidos}\")"
      ]
    }
  ]
}